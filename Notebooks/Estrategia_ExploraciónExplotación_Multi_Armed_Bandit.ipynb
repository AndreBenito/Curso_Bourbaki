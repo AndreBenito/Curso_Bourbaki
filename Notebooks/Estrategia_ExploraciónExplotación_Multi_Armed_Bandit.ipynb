{
  "nbformat": 4,
  "nbformat_minor": 0,
  "metadata": {
    "colab": {
      "name": "Estrategia Exploración-Explotación_Multi_Armed_Bandit.ipynb",
      "provenance": [],
      "toc_visible": true,
      "include_colab_link": true
    },
    "kernelspec": {
      "name": "python3",
      "display_name": "Python 3"
    },
    "language_info": {
      "name": "python"
    }
  },
  "cells": [
    {
      "cell_type": "markdown",
      "metadata": {
        "id": "view-in-github",
        "colab_type": "text"
      },
      "source": [
        "<a href=\"https://colab.research.google.com/github/AndreBenito/Curso_Bourbaki/blob/main/Notebooks/Estrategia_Exploraci%C3%B3nExplotaci%C3%B3n_Multi_Armed_Bandit.ipynb\" target=\"_parent\"><img src=\"https://colab.research.google.com/assets/colab-badge.svg\" alt=\"Open In Colab\"/></a>"
      ]
    },
    {
      "cell_type": "markdown",
      "metadata": {
        "id": "k9ADAbH73rfS"
      },
      "source": [
        "#Bibliotecas y Funciones\n"
      ]
    },
    {
      "cell_type": "code",
      "metadata": {
        "id": "TJ0Ts9FIHEmu"
      },
      "source": [
        "import numpy as np\n",
        "import matplotlib.pyplot as plt"
      ],
      "execution_count": 1,
      "outputs": []
    },
    {
      "cell_type": "code",
      "metadata": {
        "id": "wTvgN0tvHi3A"
      },
      "source": [
        "def entorno_multi_armed_bandit(maquinas):\n",
        "    '''\n",
        "    Creamos el entorno para el problema \"multi_armed_bandit\" generando aleatoriamente\n",
        "    la distribución de probabilidad de los premios que otorga cada máquina\n",
        "    '''\n",
        "    premio_medio = np.random.uniform(-10, 5, size=maquinas)\n",
        "    desv_estandar = np.random.uniform(0, 5, size=maquinas)\n",
        "    return premio_medio, desv_estandar"
      ],
      "execution_count": 2,
      "outputs": []
    },
    {
      "cell_type": "code",
      "metadata": {
        "id": "srAAbKjhKM_E"
      },
      "source": [
        "def init_Q(maquinas):\n",
        "  '''Inicializa el vector Q en ceros, el vector Q representa el valor esperado\n",
        "   de recompensa de cada máquina'''\n",
        "  Q =np.zeros(shape=(1, maquinas))\n",
        "  return Q"
      ],
      "execution_count": 3,
      "outputs": []
    },
    {
      "cell_type": "code",
      "metadata": {
        "id": "N2yLnkZKLUlp"
      },
      "source": [
        "def selecciona_maquina_exploracion(maquinas):\n",
        "    '''Selecciona una máquina aleatoriamente con distribución unifome'''\n",
        "    selec = np.random.choice(range(maquinas))\n",
        "    return selec"
      ],
      "execution_count": 4,
      "outputs": []
    },
    {
      "cell_type": "code",
      "source": [
        "def selecciona_maquina_epsilon_constante (maquinas,  ε):\n",
        "    '''Selecciona la máquina con el máximo valor de la ganancia esperada'''\n",
        "    p = np.random.uniform(0,1)\n",
        "\n",
        "    if p < (1 - ε):\n",
        "        selec = np.argmax(Q[0])\n",
        "        return selec\n",
        "\n",
        "\n",
        "    else:\n",
        "        selec = np.random.choice(range(maquinas))\n",
        "        return selec\n",
        "    return selec"
      ],
      "metadata": {
        "id": "gjjSB5uLS4RW"
      },
      "execution_count": 5,
      "outputs": []
    },
    {
      "cell_type": "code",
      "metadata": {
        "id": "Y9atc3BHgU2d"
      },
      "source": [
        "def selecciona_maquina_egd(maquinas, ε):\n",
        "    '''Selecciona una máquina con la estrategia epsilon decreasing greedy'''\n",
        "    p = np.random.uniform(0,1)\n",
        "\n",
        "    # cuándo epsilon es pequeño, generalmente se escoge la máquina con mayor ganancia\n",
        "    if p < (1 - ε):\n",
        "        selec = np.argmax(Q[0])\n",
        "        return selec\n",
        "\n",
        "    # cuando epsilon es grande, generalmente se escoge una al azar\n",
        "    else:\n",
        "        selec = np.random.choice(range(maquinas))\n",
        "        return selec"
      ],
      "execution_count": 6,
      "outputs": []
    },
    {
      "cell_type": "code",
      "metadata": {
        "id": "HUv7oB7VId1t"
      },
      "source": [
        "def calcula_recompensa(selec):\n",
        "  '''Calcula la recompensa de jugar en una determinada máquina'''\n",
        "  r = int(np.random.normal(premio_medio[selec], desv_estandar[selec], 1)[0])\n",
        "  return r"
      ],
      "execution_count": 7,
      "outputs": []
    },
    {
      "cell_type": "code",
      "metadata": {
        "id": "QHfwiInqOkBX"
      },
      "source": [
        "def actualiza_Q (Q, selec, r, veces_maq):\n",
        "    '''Actualiza el valor esperados de recompensa de la máquina seleccionada'''\n",
        "    Q[0, selec] = Q[0, selec] + 1/(veces_maq[selec])*(r - Q[0, selec])\n",
        "    return Q"
      ],
      "execution_count": 8,
      "outputs": []
    },
    {
      "cell_type": "markdown",
      "metadata": {
        "id": "VzVeNtKjpHrT"
      },
      "source": [
        "# Introducción"
      ]
    },
    {
      "cell_type": "markdown",
      "metadata": {
        "id": "TKA6ZoIgr9wq"
      },
      "source": [
        "## Definimos nuestro entorno"
      ]
    },
    {
      "cell_type": "code",
      "metadata": {
        "id": "8FJ8WPRopBiH"
      },
      "source": [
        "### Creamos el entorno definiendo el comportamiento de cada máquina\n",
        "\n",
        "premio_medio  = np.array([1,  2,  3, -10])\n",
        "desv_estandar = np.array([1,  4,   5,  1])"
      ],
      "execution_count": 10,
      "outputs": []
    },
    {
      "cell_type": "code",
      "source": [
        "maquina = 0\n",
        "n = 10000\n",
        "#  r es el premio aleatorio que va a dar una máquina (dada su distribución)\n",
        "r = np.random.normal(premio_medio[maquina], desv_estandar[maquina],n)\n",
        "plt.hist(r, bins=30, density=True)\n",
        "plt.show()\n",
        "print('\\nLa máquina arrojo durante los primeras 10 jugadas los siguientes premios: \\n')\n",
        "print (r[0:10])"
      ],
      "metadata": {
        "id": "JEnrsD3ZyZI0",
        "outputId": "d142c8e0-5e3a-43cd-860f-ffb63d28c7ed",
        "colab": {
          "base_uri": "https://localhost:8080/",
          "height": 517
        }
      },
      "execution_count": 24,
      "outputs": [
        {
          "output_type": "display_data",
          "data": {
            "text/plain": [
              "<Figure size 640x480 with 1 Axes>"
            ],
            "image/png": "[encoded data removed]"
          },
          "metadata": {}
        },
        {
          "output_type": "stream",
          "name": "stdout",
          "text": [
            "\n",
            "La máquina arrojo durante los primeras 10 jugadas los siguientes premios: \n",
            "\n",
            "[ 1.0733711   0.82294271  0.59152099 -0.89569399  2.78609462  0.66449548\n",
            "  0.42054357  0.70500949 -0.63394834 -0.18508297]\n"
          ]
        }
      ]
    },
    {
      "cell_type": "markdown",
      "source": [
        "## ¿Que hace un jugador en el casino?"
      ],
      "metadata": {
        "id": "b-FpFTSl1UF0"
      }
    },
    {
      "cell_type": "markdown",
      "metadata": {
        "id": "djXUF3Prrubk"
      },
      "source": [
        "* inicializamos en cero la variable que guardará los premios o perdidas acumuladas"
      ]
    },
    {
      "cell_type": "code",
      "metadata": {
        "id": "A5Zlrmeum_3q"
      },
      "source": [
        "premio_acumulado = 0"
      ],
      "execution_count": 76,
      "outputs": []
    },
    {
      "cell_type": "markdown",
      "metadata": {
        "id": "nMOjxNywtLLw"
      },
      "source": [
        "* seleccionamos una de las maquinas,\n",
        "* jugamos en ella y obtenemos la recompensa (o pérdida)\n",
        "* se suma la recompensa o perdida al total acumulado"
      ]
    },
    {
      "cell_type": "code",
      "metadata": {
        "colab": {
          "base_uri": "https://localhost:8080/"
        },
        "id": "dGjez-pgtLLz",
        "outputId": "88bd1551-8c4a-46c6-a486-954194f0bf0f"
      },
      "source": [
        "# 1) Se selecciona una máquina.\n",
        "selec = 0\n",
        "\n",
        "# 2) Jugamos en la máquina seleccionada y se obtiene una recompensa o pérdida.\n",
        "r = int(np.random.normal(premio_medio[selec], desv_estandar[selec], 1)[0])\n",
        "\n",
        "# 3) Se suma al premio acumulado.\n",
        "premio_acumulado += r\n",
        "print('recompensa (r):', r)\n",
        "print('Premio acumulado:', premio_acumulado)"
      ],
      "execution_count": 80,
      "outputs": [
        {
          "output_type": "stream",
          "name": "stdout",
          "text": [
            "recompensa (r): 0\n",
            "Premio acumulado: 1\n"
          ]
        }
      ]
    },
    {
      "cell_type": "markdown",
      "metadata": {
        "id": "3fOSdzrXvkOE"
      },
      "source": [
        "##  ¿Cómo guardamos la información de los premios obtenidos de cada máquina?"
      ]
    },
    {
      "cell_type": "markdown",
      "source": [
        "<center>Promedio Incremental\n",
        "\n",
        "$$Q =  Q_{n-1}+\\frac{1}{n} (r_n - Q_{n-1})$$"
      ],
      "metadata": {
        "id": "HVASmSMgzEe8"
      }
    },
    {
      "cell_type": "code",
      "metadata": {
        "colab": {
          "base_uri": "https://localhost:8080/"
        },
        "id": "dnPBUn3qnYn2",
        "outputId": "2078ec94-a61a-4c46-a0e8-868c6c025211"
      },
      "source": [
        "# Inicializa el vector Q en ceros, donde guardaremos la información de cada máquina.\n",
        "n_maquinas = 4\n",
        "Q = np.zeros(shape=(1, n_maquinas))\n",
        "Q"
      ],
      "execution_count": 81,
      "outputs": [
        {
          "output_type": "execute_result",
          "data": {
            "text/plain": [
              "array([[0., 0., 0., 0.]])"
            ]
          },
          "metadata": {},
          "execution_count": 81
        }
      ]
    },
    {
      "cell_type": "code",
      "metadata": {
        "colab": {
          "base_uri": "https://localhost:8080/"
        },
        "outputId": "bead842d-aeb4-45e4-e03e-522218fe5e23",
        "id": "PCwiS-nR0_7D"
      },
      "source": [
        "# Vamos a jugar cierto número de veces (episodios).\n",
        "episodios = 20\n",
        "n_maquinas = 4\n",
        "\n",
        "# Inicializamos el vector Q y la variable \"premio acumulado\".\n",
        "Q = np.zeros(shape =(1, n_maquinas))\n",
        "premio_acumulado = 0\n",
        "\n",
        "# Inicializamos un vector que guardará las veces que se va jugando en cada máquina.\n",
        "\n",
        "veces_maq = np.zeros(n_maquinas)\n",
        "\n",
        "# Creamos un ciclo de juego y aprendizaje.\n",
        "for ep in range(1, episodios+1):\n",
        "      # 1) Se selecciona una máquina, de manera aleatoria, distribución uniforme.\n",
        "      selec = np.random.choice([0, 1, 2, 3])\n",
        "\n",
        "      # 2) Jugamos en la máquina seleccionada y se obtiene una recompensa o pérdida\n",
        "      r = int(np.random.normal(premio_medio[selec], desv_estandar[selec], 1)[0])\n",
        "\n",
        "      # 3) Se suma la recompensa o pérdida obtenida al premio acumulado\n",
        "      premio_acumulado += r\n",
        "\n",
        "      # 5) Actualizamos la información con el premio o castigo obtenido en la máquina seleccionada\n",
        "      veces_maq[selec] += 1 # Actualizamos las veces que se ha jugado en la máquina seleccionada\n",
        "      Q[0, selec] = Q[0, selec] + 1/(veces_maq[selec])*(r - Q[0, selec])\n",
        "\n",
        "#       # 6) Reportamos el progreso del aprendizaje.\n",
        "      print(f'Episodio {ep},   Máquina {selec},   Premio = {r},   \\\n",
        "Premio_acumulado = {premio_acumulado},    Q = {Q.round(2)} \\n')\n",
        "\n",
        "print(f'Premio_acumulado = {premio_acumulado},   Q = {Q.round(2)}')"
      ],
      "execution_count": 84,
      "outputs": [
        {
          "output_type": "stream",
          "name": "stdout",
          "text": [
            "Episodio 1,   Máquina 2,   Premio = -8,   Premio_acumulado = -8,    Q = [[ 0.  0. -8.  0.]] \n",
            "\n",
            "Episodio 2,   Máquina 1,   Premio = 0,   Premio_acumulado = -8,    Q = [[ 0.  0. -8.  0.]] \n",
            "\n",
            "Episodio 3,   Máquina 0,   Premio = 0,   Premio_acumulado = -8,    Q = [[ 0.  0. -8.  0.]] \n",
            "\n",
            "Episodio 4,   Máquina 3,   Premio = -8,   Premio_acumulado = -16,    Q = [[ 0.  0. -8. -8.]] \n",
            "\n",
            "Episodio 5,   Máquina 0,   Premio = 0,   Premio_acumulado = -16,    Q = [[ 0.  0. -8. -8.]] \n",
            "\n",
            "Episodio 6,   Máquina 1,   Premio = -1,   Premio_acumulado = -17,    Q = [[ 0.  -0.5 -8.  -8. ]] \n",
            "\n",
            "Episodio 7,   Máquina 0,   Premio = 0,   Premio_acumulado = -17,    Q = [[ 0.  -0.5 -8.  -8. ]] \n",
            "\n",
            "Episodio 8,   Máquina 0,   Premio = 0,   Premio_acumulado = -17,    Q = [[ 0.  -0.5 -8.  -8. ]] \n",
            "\n",
            "Episodio 9,   Máquina 3,   Premio = -10,   Premio_acumulado = -27,    Q = [[ 0.  -0.5 -8.  -9. ]] \n",
            "\n",
            "Episodio 10,   Máquina 3,   Premio = -11,   Premio_acumulado = -38,    Q = [[ 0.   -0.5  -8.   -9.67]] \n",
            "\n",
            "Episodio 11,   Máquina 1,   Premio = 2,   Premio_acumulado = -36,    Q = [[ 0.    0.33 -8.   -9.67]] \n",
            "\n",
            "Episodio 12,   Máquina 3,   Premio = -11,   Premio_acumulado = -47,    Q = [[  0.     0.33  -8.   -10.  ]] \n",
            "\n",
            "Episodio 13,   Máquina 0,   Premio = 1,   Premio_acumulado = -46,    Q = [[  0.2    0.33  -8.   -10.  ]] \n",
            "\n",
            "Episodio 14,   Máquina 1,   Premio = -6,   Premio_acumulado = -52,    Q = [[  0.2   -1.25  -8.   -10.  ]] \n",
            "\n",
            "Episodio 15,   Máquina 2,   Premio = 6,   Premio_acumulado = -46,    Q = [[  0.2   -1.25  -1.   -10.  ]] \n",
            "\n",
            "Episodio 16,   Máquina 3,   Premio = -10,   Premio_acumulado = -56,    Q = [[  0.2   -1.25  -1.   -10.  ]] \n",
            "\n",
            "Episodio 17,   Máquina 3,   Premio = -9,   Premio_acumulado = -65,    Q = [[ 0.2  -1.25 -1.   -9.83]] \n",
            "\n",
            "Episodio 18,   Máquina 2,   Premio = 0,   Premio_acumulado = -65,    Q = [[ 0.2  -1.25 -0.67 -9.83]] \n",
            "\n",
            "Episodio 19,   Máquina 0,   Premio = 1,   Premio_acumulado = -64,    Q = [[ 0.33 -1.25 -0.67 -9.83]] \n",
            "\n",
            "Episodio 20,   Máquina 3,   Premio = -9,   Premio_acumulado = -73,    Q = [[ 0.33 -1.25 -0.67 -9.71]] \n",
            "\n",
            "Premio_acumulado = -73,   Q = [[ 0.33 -1.25 -0.67 -9.71]]\n"
          ]
        }
      ]
    },
    {
      "cell_type": "markdown",
      "metadata": {
        "id": "mVXPXUUw38V5"
      },
      "source": [
        "¿Sería correcto si, en lugar de escojer la máquina de forma aleatoria, escojemos la que más rendimientos ha dado?"
      ]
    },
    {
      "cell_type": "code",
      "metadata": {
        "colab": {
          "base_uri": "https://localhost:8080/"
        },
        "id": "ulLG8yCP0xLy",
        "outputId": "4ed7a846-aab5-4257-f5d0-20a070621c74"
      },
      "source": [
        "selec = np.argmax(Q[0])  # Selección usando la estrategia de explotación.\n",
        "selec"
      ],
      "execution_count": 85,
      "outputs": [
        {
          "output_type": "execute_result",
          "data": {
            "text/plain": [
              "np.int64(0)"
            ]
          },
          "metadata": {},
          "execution_count": 85
        }
      ]
    },
    {
      "cell_type": "markdown",
      "metadata": {
        "id": "xX6_4S3c8JWN"
      },
      "source": [
        "¿Podemos pensar en una estrategia combinada?"
      ]
    },
    {
      "cell_type": "code",
      "metadata": {
        "id": "2R-1PKtw8lMb",
        "colab": {
          "base_uri": "https://localhost:8080/"
        },
        "outputId": "9fa2b5bb-9fdb-4b28-f462-ccd724b0c6cd"
      },
      "source": [
        "p = np.random.uniform(0, 1)  # Obtenemos un valor entre 0 y 1.\n",
        "ε = .95 # Valor que disminuye desde 1 hasta 0 según avance el aprendizaje.\n",
        "\n",
        "print(f'p = {p}, ε = {ε}')\n",
        "print(f'¿Es p menor que 1 - ε?  {p < (1 - ε)}')\n",
        "if p < (1 - ε):\n",
        "    print('Explotación')\n",
        "    selec = np.argmax(Q[0])\n",
        "else:\n",
        "    # Exploración\n",
        "    print('Exploración')\n",
        "    selec = np.random.choice(range(n_maquinas))\n",
        "print(f'Máquina seleccionada: {selec}')"
      ],
      "execution_count": 274,
      "outputs": [
        {
          "output_type": "stream",
          "name": "stdout",
          "text": [
            "p = 0.36200396594287554, ε = 0.95\n",
            "¿Es p menor que 1 - ε?  False\n",
            "Exploración\n",
            "Máquina seleccionada: 0\n"
          ]
        }
      ]
    },
    {
      "cell_type": "code",
      "metadata": {
        "colab": {
          "base_uri": "https://localhost:8080/"
        },
        "outputId": "e95b6ebe-013c-4414-f5da-f5f619a955ee",
        "id": "BlE8aewIB4mS"
      },
      "source": [
        "p = np.random.uniform(0, 1)  # Obtenemos un valor entre 0 y 1.\n",
        "ε = 0.5 # Valor que disminuye desde 1 hasta 0 según avance el aprendizaje.\n",
        "\n",
        "print(f'p = {p}, ε = {ε}')\n",
        "print(f'¿Es p menor que 1 - ε?  {p < (1 - ε)}')\n",
        "if p < (1 - ε):\n",
        "    print('Explotación')\n",
        "    selec = np.argmax(Q[0])\n",
        "else:\n",
        "    # Exploración\n",
        "    print('Exploración')\n",
        "    selec = np.random.choice(range(n_maquinas))\n",
        "print(f'Máquina seleccionada: {selec}')"
      ],
      "execution_count": 278,
      "outputs": [
        {
          "output_type": "stream",
          "name": "stdout",
          "text": [
            "p = 0.16217199721679576, ε = 0.5\n",
            "¿Es p menor que 1 - ε?  True\n",
            "Explotación\n",
            "Máquina seleccionada: 2\n"
          ]
        }
      ]
    },
    {
      "cell_type": "markdown",
      "metadata": {
        "id": "Gmve4Vj7CJAf"
      },
      "source": [
        "Para cada episodio ε decaira a una taza de 0.995 a una taza de 0.\n"
      ]
    },
    {
      "cell_type": "code",
      "source": [
        "e = 1\n",
        "epsilon_decay_rate=0.9925\n",
        "\n",
        "epsilons=[]\n",
        "episodios = 1000\n",
        "for episodio in range(episodios):\n",
        "    e =  e * epsilon_decay_rate\n",
        "    epsilons.append(e)\n",
        "print(e)\n",
        "plt.plot(epsilons)"
      ],
      "metadata": {
        "colab": {
          "base_uri": "https://localhost:8080/",
          "height": 465
        },
        "id": "68-2G5DsRGl8",
        "outputId": "4fedee16-d31b-43e5-a08a-14b17b61d99d"
      },
      "execution_count": 261,
      "outputs": [
        {
          "output_type": "stream",
          "name": "stdout",
          "text": [
            "0.0005376695419628022\n"
          ]
        },
        {
          "output_type": "execute_result",
          "data": {
            "text/plain": [
              "[<matplotlib.lines.Line2D at 0x7ce2909273b0>]"
            ]
          },
          "metadata": {},
          "execution_count": 261
        },
        {
          "output_type": "display_data",
          "data": {
            "text/plain": [
              "<Figure size 640x480 with 1 Axes>"
            ],
            "image/png": "[encoded data removed]"
          },
          "metadata": {}
        }
      ]
    },
    {
      "cell_type": "markdown",
      "metadata": {
        "id": "lHGYfGfVtZhW"
      },
      "source": [
        "# Aprendizaje con distintas estrategias"
      ]
    },
    {
      "cell_type": "code",
      "metadata": {
        "id": "0QF9KYgctZ9P"
      },
      "source": [
        "# ### Definimos el número de máquinas o brazos del problema\n",
        "# n_maquinas = 3\n",
        "\n",
        "# ### Creamos el entorno\n",
        "# np.random.seed(28)\n",
        "# premio_medio, desv_estandar = entorno_multi_armed_bandit(n_maquinas)  # inicializa la distribución de probabilidad de cada máquina\n",
        "### Definimos el número de episodios (juegos)\n",
        "episodios = 10000"
      ],
      "execution_count": 299,
      "outputs": []
    },
    {
      "cell_type": "markdown",
      "metadata": {
        "id": "SBOk8P63f7Hn"
      },
      "source": [
        "## Exploración"
      ]
    },
    {
      "cell_type": "code",
      "metadata": {
        "id": "XGdvub9qSwmJ",
        "colab": {
          "base_uri": "https://localhost:8080/"
        },
        "outputId": "7e12beb2-f56f-4440-f526-51d9e3ed889f"
      },
      "source": [
        "# Inicializamos el vector Q, la variable \"premio acumulado\" y el vector veces_maq.\n",
        "Q = init_Q(n_maquinas)\n",
        "premio_acumulado = 0\n",
        "veces_maq = np.zeros(n_maquinas)\n",
        "\n",
        "# Creamos un ciclo de juego y aprendizaje con estrategia de exploración.\n",
        "for episodio in range(1,episodios+1):\n",
        "    selec = selecciona_maquina_exploracion(n_maquinas)\n",
        "    veces_maq[selec] += 1\n",
        "    r = calcula_recompensa(selec)\n",
        "    Q = actualiza_Q(Q, selec, r, veces_maq)\n",
        "    premio_acumulado += r\n",
        "\n",
        "print(f\"El premio acumulado es de: ${premio_acumulado:,.2f}\".replace('$-', '-$'))"
      ],
      "execution_count": 300,
      "outputs": [
        {
          "output_type": "stream",
          "name": "stdout",
          "text": [
            "El premio acumulado es de: -$10,397.00\n"
          ]
        }
      ]
    },
    {
      "cell_type": "code",
      "source": [
        "Q"
      ],
      "metadata": {
        "id": "5UnvLZXG82uj",
        "outputId": "ceb9fd76-65af-4517-808d-86b180902517",
        "colab": {
          "base_uri": "https://localhost:8080/"
        }
      },
      "execution_count": 301,
      "outputs": [
        {
          "output_type": "execute_result",
          "data": {
            "text/plain": [
              "array([[ 0.66011788,  1.78326693,  2.74738114, -9.48924076]])"
            ]
          },
          "metadata": {},
          "execution_count": 301
        }
      ]
    },
    {
      "cell_type": "markdown",
      "metadata": {
        "id": "OIDUtGQYnZCL"
      },
      "source": [
        "## Epsilon constante"
      ]
    },
    {
      "cell_type": "code",
      "metadata": {
        "id": "SMTfsHDUnfH4",
        "colab": {
          "base_uri": "https://localhost:8080/"
        },
        "outputId": "ae5b767b-16ea-4326-f40e-a6aa392b212b"
      },
      "source": [
        "# Inicializamos el vector Q, la variable \"premio acumulado\" y el vector veces_maq.\n",
        "epsilon = 0.5\n",
        "Q = init_Q(n_maquinas, )\n",
        "premio_acumulado = 0\n",
        "veces_maq = np.zeros(n_maquinas)\n",
        "\n",
        "for episodio in range(episodios+1):\n",
        "    selec = selecciona_maquina_epsilon_constante(n_maquinas, epsilon )\n",
        "    r = calcula_recompensa(selec)\n",
        "    premio_acumulado += r\n",
        "    veces_maq[selec] += 1\n",
        "    Q = actualiza_Q(Q, selec, r, veces_maq)\n",
        "\n",
        "print(f\"El premio acumulado es de: ${premio_acumulado:,.2f}\".replace('$-', '-$'))"
      ],
      "execution_count": 302,
      "outputs": [
        {
          "output_type": "stream",
          "name": "stdout",
          "text": [
            "El premio acumulado es de: $8,885.00\n"
          ]
        }
      ]
    },
    {
      "cell_type": "code",
      "source": [
        "Q"
      ],
      "metadata": {
        "id": "vTw3zB6e8xwd",
        "outputId": "c5a1116e-5e2c-455d-d8af-f3e582ba32fe",
        "colab": {
          "base_uri": "https://localhost:8080/"
        }
      },
      "execution_count": 303,
      "outputs": [
        {
          "output_type": "execute_result",
          "data": {
            "text/plain": [
              "array([[ 0.6416    ,  1.95435093,  2.76550261, -9.5036855 ]])"
            ]
          },
          "metadata": {},
          "execution_count": 303
        }
      ]
    },
    {
      "cell_type": "markdown",
      "metadata": {
        "id": "7gXk8RpAf_S5"
      },
      "source": [
        "## Epsilon decreasing greedy (edg)"
      ]
    },
    {
      "cell_type": "code",
      "metadata": {
        "id": "Wwluzms4f_S7",
        "colab": {
          "base_uri": "https://localhost:8080/"
        },
        "outputId": "6d6baa10-1616-48b6-d7f4-839547900689"
      },
      "source": [
        "# Inicializamos el vector Q, la variable \"premio acumulado\" y el vector veces_maq.\n",
        "Q = init_Q(n_maquinas)\n",
        "premio_acumulado = 0\n",
        "veces_maq = np.zeros(n_maquinas)\n",
        "epsilon_decay_rate = 0.9925\n",
        "ε = 1\n",
        "\n",
        "# Creamos un ciclo de juego y aprendizaje con estrategia edg\n",
        "for episodio in range(1 ,episodios+1):\n",
        "    ε =  ε * epsilon_decay_rate\n",
        "    selec = selecciona_maquina_egd(n_maquinas, ε)\n",
        "    r = calcula_recompensa(selec)\n",
        "    premio_acumulado += r\n",
        "    veces_maq[selec] += 1\n",
        "    Q = actualiza_Q(Q, selec, r, veces_maq)\n",
        "\n",
        "print(f\"El premio acumulado es de: ${premio_acumulado:,.2f}\".replace('$-', '-$'))"
      ],
      "execution_count": 310,
      "outputs": [
        {
          "output_type": "stream",
          "name": "stdout",
          "text": [
            "El premio acumulado es de: $27,929.00\n"
          ]
        }
      ]
    },
    {
      "cell_type": "code",
      "source": [
        "Q"
      ],
      "metadata": {
        "id": "bkgKQA26TcUE",
        "outputId": "290507ac-1f00-4d90-ca0b-a1fb9545ce5a",
        "colab": {
          "base_uri": "https://localhost:8080/"
        }
      },
      "execution_count": 311,
      "outputs": [
        {
          "output_type": "execute_result",
          "data": {
            "text/plain": [
              "array([[ 0.76190476,  1.05714286,  2.84382897, -9.13333333]])"
            ]
          },
          "metadata": {},
          "execution_count": 311
        }
      ]
    },
    {
      "cell_type": "markdown",
      "metadata": {
        "id": "U9EM0mu3mB99"
      },
      "source": [
        "# Referencias:\n",
        "\n",
        "[1]A. Aristizabal, «Understanding Reinforcement Learning Hands-On: Multi-Armed Bandits», Medium, oct. 19, 2020. https://towardsdatascience.com/understanding-reinforcement-learning-hands-on-part-2-multi-armed-bandits-526592072bdc (accedido jul. 30, 2021).\n",
        "\n"
      ]
    }
  ]
}